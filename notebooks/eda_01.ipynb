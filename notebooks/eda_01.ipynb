{
 "cells": [
  {
   "cell_type": "code",
   "execution_count": 19,
   "id": "8dbb220b",
   "metadata": {},
   "outputs": [],
   "source": [
    "import pandas as pd\n",
    "import sys, os\n",
    "sys.path.append(os.path.abspath(os.path.join(os.getcwd(), '..')))\n",
    "from functions.transformers import saludar"
   ]
  },
  {
   "cell_type": "code",
   "execution_count": 20,
   "id": "a465dd9d",
   "metadata": {},
   "outputs": [
    {
     "name": "stdout",
     "output_type": "stream",
     "text": [
      "dimensions of test data -> (1459, 80)\n",
      "dimensions of train data -> (1460, 81)\n",
      "\n",
      "\n",
      "fields with missing data:\n"
     ]
    },
    {
     "data": {
      "application/vnd.microsoft.datawrangler.viewer.v0+json": {
       "columns": [
        {
         "name": "index",
         "rawType": "object",
         "type": "string"
        },
        {
         "name": "0",
         "rawType": "int64",
         "type": "integer"
        }
       ],
       "ref": "f48bffe1-2de2-4ede-b6b3-f6ea4fd822d5",
       "rows": [
        [
         "LotFrontage",
         "259"
        ],
        [
         "Alley",
         "1369"
        ],
        [
         "MasVnrType",
         "872"
        ],
        [
         "MasVnrArea",
         "8"
        ],
        [
         "BsmtQual",
         "37"
        ],
        [
         "BsmtCond",
         "37"
        ],
        [
         "BsmtExposure",
         "38"
        ],
        [
         "BsmtFinType1",
         "37"
        ],
        [
         "BsmtFinType2",
         "38"
        ],
        [
         "Electrical",
         "1"
        ],
        [
         "FireplaceQu",
         "690"
        ],
        [
         "GarageType",
         "81"
        ],
        [
         "GarageYrBlt",
         "81"
        ],
        [
         "GarageFinish",
         "81"
        ],
        [
         "GarageQual",
         "81"
        ],
        [
         "GarageCond",
         "81"
        ],
        [
         "PoolQC",
         "1453"
        ],
        [
         "Fence",
         "1179"
        ],
        [
         "MiscFeature",
         "1406"
        ]
       ],
       "shape": {
        "columns": 1,
        "rows": 19
       }
      },
      "text/plain": [
       "LotFrontage      259\n",
       "Alley           1369\n",
       "MasVnrType       872\n",
       "MasVnrArea         8\n",
       "BsmtQual          37\n",
       "BsmtCond          37\n",
       "BsmtExposure      38\n",
       "BsmtFinType1      37\n",
       "BsmtFinType2      38\n",
       "Electrical         1\n",
       "FireplaceQu      690\n",
       "GarageType        81\n",
       "GarageYrBlt       81\n",
       "GarageFinish      81\n",
       "GarageQual        81\n",
       "GarageCond        81\n",
       "PoolQC          1453\n",
       "Fence           1179\n",
       "MiscFeature     1406\n",
       "dtype: int64"
      ]
     },
     "execution_count": 20,
     "metadata": {},
     "output_type": "execute_result"
    }
   ],
   "source": [
    "df_test = pd.read_csv('../data/raw/test.csv')\n",
    "df_train = pd.read_csv('../data/raw/train.csv')\n",
    "print(f'dimensions of test data -> {df_test.shape}')\n",
    "print(f'dimensions of train data -> {df_train.shape}')\n",
    "print('\\n')\n",
    "\n",
    "missing_data = df_train.isnull().sum()\n",
    "missing_data = missing_data[missing_data > 0]\n",
    "print('fields with missing data:')\n",
    "missing_data"
   ]
  },
  {
   "cell_type": "code",
   "execution_count": 21,
   "id": "4ce5514f",
   "metadata": {},
   "outputs": [
    {
     "name": "stdout",
     "output_type": "stream",
     "text": [
      "¡Hola desde transformers.py!\n"
     ]
    }
   ],
   "source": [
    "saludar()"
   ]
  }
 ],
 "metadata": {
  "kernelspec": {
   "display_name": "ml-house-prices-env",
   "language": "python",
   "name": "python3"
  },
  "language_info": {
   "codemirror_mode": {
    "name": "ipython",
    "version": 3
   },
   "file_extension": ".py",
   "mimetype": "text/x-python",
   "name": "python",
   "nbconvert_exporter": "python",
   "pygments_lexer": "ipython3",
   "version": "3.12.7"
  }
 },
 "nbformat": 4,
 "nbformat_minor": 5
}
